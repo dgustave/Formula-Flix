{
 "cells": [
  {
   "cell_type": "code",
   "execution_count": null,
   "metadata": {},
   "outputs": [],
   "source": [
    "import requests\n",
    "import pdfplumber\n",
    "import tabula # For windows users javac should work on command line (https://tabula-py.readthedocs.io/en/latest/getting_started.html#get-tabula-py-working-windows-10)\n",
    "import pandas as pd\n",
    "import os"
   ]
  },
  {
   "cell_type": "code",
   "execution_count": null,
   "metadata": {},
   "outputs": [],
   "source": [
    "# working directory \n",
    "def current_path(): \n",
    "    print(\"Current working directory before\") \n",
    "    return (os.getcwd()) "
   ]
  },
  {
   "cell_type": "code",
   "execution_count": null,
   "metadata": {},
   "outputs": [],
   "source": [
    "def download_file(url): \n",
    "    filename = url.split('/')[-1]\n",
    "    # pdf file object\n",
    "    # you can find find the pdf file with complete code in below\n",
    "    with requests.get(url) as r: \n",
    "        with open(f\"../data/interim/{filename}\", 'wb') as f: \n",
    "            f.write(r.content)\n",
    "    return filename"
   ]
  },
  {
   "cell_type": "code",
   "execution_count": null,
   "metadata": {},
   "outputs": [],
   "source": [
    "annual_report_raw = download_file('https://www.ibm.com/annualreport/assets/downloads/IBM_Annual_Report_2019.pdf')\n",
    "annual_report_raw"
   ]
  },
  {
   "cell_type": "code",
   "execution_count": null,
   "metadata": {},
   "outputs": [],
   "source": [
    "os.chdir('../')"
   ]
  },
  {
   "cell_type": "code",
   "execution_count": null,
   "metadata": {},
   "outputs": [],
   "source": [
    "old_filename = current_path()  + f'\\\\data\\\\interim\\\\{annual_report_raw}'\n",
    "old_filename"
   ]
  },
  {
   "cell_type": "code",
   "execution_count": null,
   "metadata": {},
   "outputs": [],
   "source": [
    "annual_report_2019 = \"IBM_annual_report_2019\""
   ]
  },
  {
   "cell_type": "code",
   "execution_count": null,
   "metadata": {},
   "outputs": [],
   "source": [
    "new_filename = current_path()  + f'\\\\data\\\\interim\\\\{annual_report_2019}'\n",
    "new_filename"
   ]
  },
  {
   "cell_type": "code",
   "execution_count": null,
   "metadata": {},
   "outputs": [],
   "source": [
    "os.rename(old_filename, new_filename)"
   ]
  },
  {
   "cell_type": "code",
   "execution_count": null,
   "metadata": {},
   "outputs": [],
   "source": [
    "# Any valuable information won't be seen till page four:  \n",
    "with pdfplumber.open(f\"data/interim/{annual_report_2019}\") as pdf: \n",
    "    page = pdf.pages[5]\n",
    "    text = page.extract_text() \n",
    "    "
   ]
  },
  {
   "cell_type": "code",
   "execution_count": null,
   "metadata": {},
   "outputs": [],
   "source": [
    "print(text)"
   ]
  },
  {
   "cell_type": "code",
   "execution_count": null,
   "metadata": {},
   "outputs": [],
   "source": [
    "df = []\n",
    "for page in range(27, 30):\n",
    "    df = tabula.read_pdf(f\"data/interim/{annual_report_2019}\", multiple_tables=True, pages= page)\n",
    "print(df)"
   ]
  },
  {
   "cell_type": "code",
   "execution_count": null,
   "metadata": {},
   "outputs": [],
   "source": []
  }
 ],
 "metadata": {
  "kernelspec": {
   "display_name": "Python 3",
   "language": "python",
   "name": "python3"
  },
  "language_info": {
   "codemirror_mode": {
    "name": "ipython",
    "version": 3
   },
   "file_extension": ".py",
   "mimetype": "text/x-python",
   "name": "python",
   "nbconvert_exporter": "python",
   "pygments_lexer": "ipython3",
   "version": "3.8.5"
  }
 },
 "nbformat": 4,
 "nbformat_minor": 4
}
